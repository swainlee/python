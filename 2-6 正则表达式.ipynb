{
 "cells": [
  {
   "cell_type": "code",
   "execution_count": 8,
   "metadata": {},
   "outputs": [
    {
     "name": "stdout",
     "output_type": "stream",
     "text": [
      "['no.:']\n",
      "['no.:', 'yes.']\n"
     ]
    }
   ],
   "source": [
    "#正则表达式\n",
    "import  re\n",
    "re_quote = re.compile(r'\"(.*?)\"')\n",
    "text1='Computer say \"no.:\"  '\n",
    "find1=re_quote.findall(text1)\n",
    "print(find1)   \n",
    "text2='Computer say \"no.:\" and \"yes.\"'\n",
    "find2=re_quote.findall(text2)\n",
    "print(find2) "
   ]
  },
  {
   "cell_type": "code",
   "execution_count": 11,
   "metadata": {},
   "outputs": [
    {
     "name": "stdout",
     "output_type": "stream",
     "text": [
      " 替 换 日 期 格  式 2018-02-10,2018-12-25\n"
     ]
    },
    {
     "data": {
      "text/plain": [
       "'替换日期格式02/10/2018,12/25/2018'"
      ]
     },
     "execution_count": 11,
     "metadata": {},
     "output_type": "execute_result"
    }
   ],
   "source": [
    "#通过分组替换字符串格式m//dd/yy -> yy-mm-dd\n",
    "import re\n",
    "s=' 替 换 日 期 格  式 02/10/2018,12/25/2018'\n",
    "re_date = re.compile(r'(\\d+)/(\\d+)/(\\d+)')\n",
    "a=re_date.sub(r'\\3-\\1-\\2',s)\n",
    "print(a)\n",
    "#去掉空格\n",
    "re_blank = re.compile(r'\\s+')\n",
    "re_blank.sub('',s)"
   ]
  },
  {
   "cell_type": "code",
   "execution_count": null,
   "metadata": {},
   "outputs": [],
   "source": []
  }
 ],
 "metadata": {
  "kernelspec": {
   "display_name": "Python 3",
   "language": "python",
   "name": "python3"
  },
  "language_info": {
   "codemirror_mode": {
    "name": "ipython",
    "version": 3
   },
   "file_extension": ".py",
   "mimetype": "text/x-python",
   "name": "python",
   "nbconvert_exporter": "python",
   "pygments_lexer": "ipython3",
   "version": "3.6.5"
  }
 },
 "nbformat": 4,
 "nbformat_minor": 2
}
