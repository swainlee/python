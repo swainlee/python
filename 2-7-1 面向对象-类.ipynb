{
 "cells": [
  {
   "cell_type": "code",
   "execution_count": 42,
   "metadata": {},
   "outputs": [],
   "source": [
    "class People: #类首字母要大写\n",
    "    \"\"\"一个类\"\"\"\n",
    "    def __init__(self,name,age):\n",
    "        self.name = name\n",
    "        self.age = age\n",
    "        \n",
    "    def walk(self):\n",
    "        \"\"\"类的一个方法\"\"\"\n",
    "        print(f'{self.name} is walking ')\n",
    "    \n",
    "class Car:\n",
    "    name = 'xxx'\n",
    "    def __init__(self,brand,price):\n",
    "        self._brand = brand\n",
    "        self.price = price\n",
    "        self.__speed = 0 #私有变量，不可继承\n",
    "    def run(self,action):\n",
    "        print(f'{self.brand} is running')\n",
    "        if action == '1':\n",
    "            self.__speed = self.__speed+ 1*10\n",
    "            print('当前速度是: {} km/h'.format(self.__speed))\n",
    "    def start(self):\n",
    "        print(f'{self.brand} is on')\n",
    "     \n",
    "    @property\n",
    "    def speed(self): #只读,getter 方法\n",
    "        return self.__speed\n",
    "    \n",
    "    @property\n",
    "    def brand(self): #只读,getter 方法\n",
    "        return self._brand\n",
    "    \n",
    "    @brand.setter #添加setter方法，可以赋值\n",
    "    \n",
    "    def brand(self,brand):\n",
    "        if not isinstance(brand,str):\n",
    "            raise TypeError('牌子是字符串类型')\n",
    "        self._brand = brand\n",
    "    \n",
    "    @property\n",
    "    def info(self):\n",
    "        return f'{self.brand}:{self.price}'\n",
    "    "
   ]
  },
  {
   "cell_type": "code",
   "execution_count": 44,
   "metadata": {},
   "outputs": [
    {
     "data": {
      "text/plain": [
       "<__main__.Car at 0xba38f2bcc0>"
      ]
     },
     "execution_count": 44,
     "metadata": {},
     "output_type": "execute_result"
    }
   ],
   "source": [
    "auto = Car('auto',2222)\n",
    "auto"
   ]
  },
  {
   "cell_type": "code",
   "execution_count": 46,
   "metadata": {},
   "outputs": [
    {
     "name": "stdout",
     "output_type": "stream",
     "text": [
      "auto is running\n",
      "当前速度是: 20 km/h\n"
     ]
    }
   ],
   "source": [
    "auto.run('1')"
   ]
  },
  {
   "cell_type": "code",
   "execution_count": 47,
   "metadata": {},
   "outputs": [],
   "source": [
    "auto.brand = 'auto22'"
   ]
  },
  {
   "cell_type": "code",
   "execution_count": 50,
   "metadata": {},
   "outputs": [],
   "source": [
    "auto.price=3333"
   ]
  },
  {
   "cell_type": "code",
   "execution_count": 51,
   "metadata": {},
   "outputs": [
    {
     "data": {
      "text/plain": [
       "3333"
      ]
     },
     "execution_count": 51,
     "metadata": {},
     "output_type": "execute_result"
    }
   ],
   "source": [
    "auto.price"
   ]
  },
  {
   "cell_type": "code",
   "execution_count": 52,
   "metadata": {},
   "outputs": [],
   "source": [
    "#对象可以自定义动态添加属性，不推荐使用\n",
    "auto.country='china'"
   ]
  },
  {
   "cell_type": "code",
   "execution_count": 53,
   "metadata": {},
   "outputs": [
    {
     "data": {
      "text/plain": [
       "'china'"
      ]
     },
     "execution_count": 53,
     "metadata": {},
     "output_type": "execute_result"
    }
   ],
   "source": [
    "auto.country"
   ]
  },
  {
   "cell_type": "code",
   "execution_count": null,
   "metadata": {},
   "outputs": [],
   "source": []
  }
 ],
 "metadata": {
  "kernelspec": {
   "display_name": "Python 3",
   "language": "python",
   "name": "python3"
  },
  "language_info": {
   "codemirror_mode": {
    "name": "ipython",
    "version": 3
   },
   "file_extension": ".py",
   "mimetype": "text/x-python",
   "name": "python",
   "nbconvert_exporter": "python",
   "pygments_lexer": "ipython3",
   "version": "3.6.5"
  }
 },
 "nbformat": 4,
 "nbformat_minor": 2
}
